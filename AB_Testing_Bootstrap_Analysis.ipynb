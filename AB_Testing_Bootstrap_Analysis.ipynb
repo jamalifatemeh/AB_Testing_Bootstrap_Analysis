{
 "cells": [
  {
   "cell_type": "markdown",
   "id": "dc7f9ed4",
   "metadata": {},
   "source": [
    "# 📦 1. Imports and Data Loading"
   ]
  },
  {
   "cell_type": "code",
   "execution_count": 1,
   "id": "9ac62a41",
   "metadata": {},
   "outputs": [],
   "source": [
    "# Import necessary libraries\n",
    "import numpy as np\n",
    "import pandas as pd\n",
    "import matplotlib.pyplot as plt\n",
    "import seaborn as sb"
   ]
  },
  {
   "cell_type": "code",
   "execution_count": 2,
   "id": "dc98193e",
   "metadata": {},
   "outputs": [
    {
     "data": {
      "text/html": [
       "<div>\n",
       "<style scoped>\n",
       "    .dataframe tbody tr th:only-of-type {\n",
       "        vertical-align: middle;\n",
       "    }\n",
       "\n",
       "    .dataframe tbody tr th {\n",
       "        vertical-align: top;\n",
       "    }\n",
       "\n",
       "    .dataframe thead th {\n",
       "        text-align: right;\n",
       "    }\n",
       "</style>\n",
       "<table border=\"1\" class=\"dataframe\">\n",
       "  <thead>\n",
       "    <tr style=\"text-align: right;\">\n",
       "      <th></th>\n",
       "      <th>user_id</th>\n",
       "      <th>timestamp</th>\n",
       "      <th>group</th>\n",
       "      <th>landing_page</th>\n",
       "      <th>converted</th>\n",
       "    </tr>\n",
       "  </thead>\n",
       "  <tbody>\n",
       "    <tr>\n",
       "      <th>0</th>\n",
       "      <td>851104</td>\n",
       "      <td>2017-01-21 22:11:48.556739</td>\n",
       "      <td>control</td>\n",
       "      <td>old_page</td>\n",
       "      <td>0</td>\n",
       "    </tr>\n",
       "    <tr>\n",
       "      <th>1</th>\n",
       "      <td>804228</td>\n",
       "      <td>2017-01-12 08:01:45.159739</td>\n",
       "      <td>control</td>\n",
       "      <td>old_page</td>\n",
       "      <td>0</td>\n",
       "    </tr>\n",
       "    <tr>\n",
       "      <th>2</th>\n",
       "      <td>661590</td>\n",
       "      <td>2017-01-11 16:55:06.154213</td>\n",
       "      <td>treatment</td>\n",
       "      <td>new_page</td>\n",
       "      <td>0</td>\n",
       "    </tr>\n",
       "    <tr>\n",
       "      <th>3</th>\n",
       "      <td>853541</td>\n",
       "      <td>2017-01-08 18:28:03.143765</td>\n",
       "      <td>treatment</td>\n",
       "      <td>new_page</td>\n",
       "      <td>0</td>\n",
       "    </tr>\n",
       "    <tr>\n",
       "      <th>4</th>\n",
       "      <td>864975</td>\n",
       "      <td>2017-01-21 01:52:26.210827</td>\n",
       "      <td>control</td>\n",
       "      <td>old_page</td>\n",
       "      <td>1</td>\n",
       "    </tr>\n",
       "    <tr>\n",
       "      <th>...</th>\n",
       "      <td>...</td>\n",
       "      <td>...</td>\n",
       "      <td>...</td>\n",
       "      <td>...</td>\n",
       "      <td>...</td>\n",
       "    </tr>\n",
       "    <tr>\n",
       "      <th>294473</th>\n",
       "      <td>751197</td>\n",
       "      <td>2017-01-03 22:28:38.630509</td>\n",
       "      <td>control</td>\n",
       "      <td>old_page</td>\n",
       "      <td>0</td>\n",
       "    </tr>\n",
       "    <tr>\n",
       "      <th>294474</th>\n",
       "      <td>945152</td>\n",
       "      <td>2017-01-12 00:51:57.078372</td>\n",
       "      <td>control</td>\n",
       "      <td>old_page</td>\n",
       "      <td>0</td>\n",
       "    </tr>\n",
       "    <tr>\n",
       "      <th>294475</th>\n",
       "      <td>734608</td>\n",
       "      <td>2017-01-22 11:45:03.439544</td>\n",
       "      <td>control</td>\n",
       "      <td>old_page</td>\n",
       "      <td>0</td>\n",
       "    </tr>\n",
       "    <tr>\n",
       "      <th>294476</th>\n",
       "      <td>697314</td>\n",
       "      <td>2017-01-15 01:20:28.957438</td>\n",
       "      <td>control</td>\n",
       "      <td>old_page</td>\n",
       "      <td>0</td>\n",
       "    </tr>\n",
       "    <tr>\n",
       "      <th>294477</th>\n",
       "      <td>715931</td>\n",
       "      <td>2017-01-16 12:40:24.467417</td>\n",
       "      <td>treatment</td>\n",
       "      <td>new_page</td>\n",
       "      <td>0</td>\n",
       "    </tr>\n",
       "  </tbody>\n",
       "</table>\n",
       "<p>294478 rows × 5 columns</p>\n",
       "</div>"
      ],
      "text/plain": [
       "        user_id                   timestamp      group landing_page  converted\n",
       "0        851104  2017-01-21 22:11:48.556739    control     old_page          0\n",
       "1        804228  2017-01-12 08:01:45.159739    control     old_page          0\n",
       "2        661590  2017-01-11 16:55:06.154213  treatment     new_page          0\n",
       "3        853541  2017-01-08 18:28:03.143765  treatment     new_page          0\n",
       "4        864975  2017-01-21 01:52:26.210827    control     old_page          1\n",
       "...         ...                         ...        ...          ...        ...\n",
       "294473   751197  2017-01-03 22:28:38.630509    control     old_page          0\n",
       "294474   945152  2017-01-12 00:51:57.078372    control     old_page          0\n",
       "294475   734608  2017-01-22 11:45:03.439544    control     old_page          0\n",
       "294476   697314  2017-01-15 01:20:28.957438    control     old_page          0\n",
       "294477   715931  2017-01-16 12:40:24.467417  treatment     new_page          0\n",
       "\n",
       "[294478 rows x 5 columns]"
      ]
     },
     "execution_count": 2,
     "metadata": {},
     "output_type": "execute_result"
    }
   ],
   "source": [
    "# Load A/B testing dataset\n",
    "df = pd.read_csv(\"C:/Users/ajinv/Downloads/project9_ab_data.csv\")\n",
    "df"
   ]
  },
  {
   "cell_type": "markdown",
   "id": "4e7d4d37",
   "metadata": {},
   "source": [
    "## 🔍 2. Initial Data Exploration"
   ]
  },
  {
   "cell_type": "code",
   "execution_count": 3,
   "id": "3d7ca1e8",
   "metadata": {},
   "outputs": [
    {
     "name": "stdout",
     "output_type": "stream",
     "text": [
      "<class 'pandas.core.frame.DataFrame'>\n",
      "RangeIndex: 294478 entries, 0 to 294477\n",
      "Data columns (total 5 columns):\n",
      " #   Column        Non-Null Count   Dtype \n",
      "---  ------        --------------   ----- \n",
      " 0   user_id       294478 non-null  int64 \n",
      " 1   timestamp     294478 non-null  object\n",
      " 2   group         294478 non-null  object\n",
      " 3   landing_page  294478 non-null  object\n",
      " 4   converted     294478 non-null  int64 \n",
      "dtypes: int64(2), object(3)\n",
      "memory usage: 11.2+ MB\n"
     ]
    }
   ],
   "source": [
    "df.info()"
   ]
  },
  {
   "cell_type": "code",
   "execution_count": 4,
   "id": "7024e6f9",
   "metadata": {},
   "outputs": [
    {
     "data": {
      "text/plain": [
       "converted\n",
       "0    259241\n",
       "1     35237\n",
       "Name: count, dtype: int64"
      ]
     },
     "execution_count": 4,
     "metadata": {},
     "output_type": "execute_result"
    }
   ],
   "source": [
    "df['converted'].value_counts()"
   ]
  },
  {
   "cell_type": "code",
   "execution_count": 5,
   "id": "855be261",
   "metadata": {},
   "outputs": [
    {
     "data": {
      "text/plain": [
       "290584"
      ]
     },
     "execution_count": 5,
     "metadata": {},
     "output_type": "execute_result"
    }
   ],
   "source": [
    "df['user_id'].nunique()"
   ]
  },
  {
   "cell_type": "code",
   "execution_count": 6,
   "id": "1d4ab9d3",
   "metadata": {},
   "outputs": [
    {
     "data": {
      "text/plain": [
       "3894"
      ]
     },
     "execution_count": 6,
     "metadata": {},
     "output_type": "execute_result"
    }
   ],
   "source": [
    "df['user_id'].duplicated().sum()  # Number of duplicate users"
   ]
  },
  {
   "cell_type": "code",
   "execution_count": 7,
   "id": "e42fdd7e",
   "metadata": {},
   "outputs": [],
   "source": [
    "# Get index of duplicate user IDs\n",
    "drop_index = df[df['user_id'].duplicated()].index"
   ]
  },
  {
   "cell_type": "code",
   "execution_count": 8,
   "id": "8b007830",
   "metadata": {},
   "outputs": [
    {
     "data": {
      "text/plain": [
       "Index([  2656,   2893,   7500,   8036,  10218,  11215,  11428,  12858,  13262,\n",
       "        14487,\n",
       "       ...\n",
       "       293996, 294014, 294200, 294252, 294253, 294308, 294309, 294328, 294331,\n",
       "       294355],\n",
       "      dtype='int64', length=3894)"
      ]
     },
     "execution_count": 8,
     "metadata": {},
     "output_type": "execute_result"
    }
   ],
   "source": [
    "drop_index"
   ]
  },
  {
   "cell_type": "code",
   "execution_count": 9,
   "id": "fc4552f5",
   "metadata": {},
   "outputs": [
    {
     "name": "stdout",
     "output_type": "stream",
     "text": [
      "290584\n",
      "290584\n"
     ]
    }
   ],
   "source": [
    "# Drop duplicates and confirm\n",
    "print(len(df.drop(drop_index , axis=0)))\n",
    "print(df.drop(drop_index , axis=0)['user_id'].nunique())"
   ]
  },
  {
   "cell_type": "markdown",
   "id": "10e74e1c",
   "metadata": {},
   "source": [
    "## 🧹 3. Data Cleaning and Consistency Check"
   ]
  },
  {
   "cell_type": "code",
   "execution_count": 10,
   "id": "b8cda221",
   "metadata": {},
   "outputs": [],
   "source": [
    "df1 = df.drop(drop_index , axis=0)"
   ]
  },
  {
   "cell_type": "code",
   "execution_count": 11,
   "id": "113e3996",
   "metadata": {},
   "outputs": [],
   "source": [
    "# Drop inconsistent treatment-control pairs\n",
    "index_drop_control = df1[np.logical_and(df1['group']=='control', df1['landing_page']=='new_page')].index\n",
    "index_drop_treatment = df1[np.logical_and(df1['group']=='treatment', df1['landing_page']=='old_page')].index"
   ]
  },
  {
   "cell_type": "code",
   "execution_count": 12,
   "id": "5eff3f1e",
   "metadata": {},
   "outputs": [
    {
     "name": "stdout",
     "output_type": "stream",
     "text": [
      "1006\n",
      "1038\n"
     ]
    }
   ],
   "source": [
    "print(len(index_drop_control))\n",
    "print(len(index_drop_treatment))"
   ]
  },
  {
   "cell_type": "code",
   "execution_count": 13,
   "id": "ffb2b6c9",
   "metadata": {},
   "outputs": [],
   "source": [
    "df1.drop(index_drop_control , axis=0 , inplace=True)\n",
    "df1.drop(index_drop_treatment , axis=0 , inplace=True)"
   ]
  },
  {
   "cell_type": "code",
   "execution_count": 14,
   "id": "1b27ed5b",
   "metadata": {},
   "outputs": [
    {
     "data": {
      "text/html": [
       "<div>\n",
       "<style scoped>\n",
       "    .dataframe tbody tr th:only-of-type {\n",
       "        vertical-align: middle;\n",
       "    }\n",
       "\n",
       "    .dataframe tbody tr th {\n",
       "        vertical-align: top;\n",
       "    }\n",
       "\n",
       "    .dataframe thead th {\n",
       "        text-align: right;\n",
       "    }\n",
       "</style>\n",
       "<table border=\"1\" class=\"dataframe\">\n",
       "  <thead>\n",
       "    <tr style=\"text-align: right;\">\n",
       "      <th></th>\n",
       "      <th>user_id</th>\n",
       "      <th>timestamp</th>\n",
       "      <th>group</th>\n",
       "      <th>landing_page</th>\n",
       "      <th>converted</th>\n",
       "    </tr>\n",
       "  </thead>\n",
       "  <tbody>\n",
       "  </tbody>\n",
       "</table>\n",
       "</div>"
      ],
      "text/plain": [
       "Empty DataFrame\n",
       "Columns: [user_id, timestamp, group, landing_page, converted]\n",
       "Index: []"
      ]
     },
     "execution_count": 14,
     "metadata": {},
     "output_type": "execute_result"
    }
   ],
   "source": [
    "# Sanity check after cleaning\n",
    "df1[np.logical_and(df1['group']=='treatment', df1['landing_page']=='old_page')]"
   ]
  },
  {
   "cell_type": "code",
   "execution_count": 15,
   "id": "ec0ea3d8",
   "metadata": {},
   "outputs": [
    {
     "data": {
      "text/html": [
       "<div>\n",
       "<style scoped>\n",
       "    .dataframe tbody tr th:only-of-type {\n",
       "        vertical-align: middle;\n",
       "    }\n",
       "\n",
       "    .dataframe tbody tr th {\n",
       "        vertical-align: top;\n",
       "    }\n",
       "\n",
       "    .dataframe thead th {\n",
       "        text-align: right;\n",
       "    }\n",
       "</style>\n",
       "<table border=\"1\" class=\"dataframe\">\n",
       "  <thead>\n",
       "    <tr style=\"text-align: right;\">\n",
       "      <th></th>\n",
       "      <th>user_id</th>\n",
       "      <th>timestamp</th>\n",
       "      <th>group</th>\n",
       "      <th>landing_page</th>\n",
       "      <th>converted</th>\n",
       "    </tr>\n",
       "  </thead>\n",
       "  <tbody>\n",
       "    <tr>\n",
       "      <th>0</th>\n",
       "      <td>851104</td>\n",
       "      <td>2017-01-21 22:11:48.556739</td>\n",
       "      <td>control</td>\n",
       "      <td>old_page</td>\n",
       "      <td>0</td>\n",
       "    </tr>\n",
       "    <tr>\n",
       "      <th>1</th>\n",
       "      <td>804228</td>\n",
       "      <td>2017-01-12 08:01:45.159739</td>\n",
       "      <td>control</td>\n",
       "      <td>old_page</td>\n",
       "      <td>0</td>\n",
       "    </tr>\n",
       "    <tr>\n",
       "      <th>2</th>\n",
       "      <td>661590</td>\n",
       "      <td>2017-01-11 16:55:06.154213</td>\n",
       "      <td>treatment</td>\n",
       "      <td>new_page</td>\n",
       "      <td>0</td>\n",
       "    </tr>\n",
       "    <tr>\n",
       "      <th>3</th>\n",
       "      <td>853541</td>\n",
       "      <td>2017-01-08 18:28:03.143765</td>\n",
       "      <td>treatment</td>\n",
       "      <td>new_page</td>\n",
       "      <td>0</td>\n",
       "    </tr>\n",
       "    <tr>\n",
       "      <th>4</th>\n",
       "      <td>864975</td>\n",
       "      <td>2017-01-21 01:52:26.210827</td>\n",
       "      <td>control</td>\n",
       "      <td>old_page</td>\n",
       "      <td>1</td>\n",
       "    </tr>\n",
       "  </tbody>\n",
       "</table>\n",
       "</div>"
      ],
      "text/plain": [
       "   user_id                   timestamp      group landing_page  converted\n",
       "0   851104  2017-01-21 22:11:48.556739    control     old_page          0\n",
       "1   804228  2017-01-12 08:01:45.159739    control     old_page          0\n",
       "2   661590  2017-01-11 16:55:06.154213  treatment     new_page          0\n",
       "3   853541  2017-01-08 18:28:03.143765  treatment     new_page          0\n",
       "4   864975  2017-01-21 01:52:26.210827    control     old_page          1"
      ]
     },
     "execution_count": 15,
     "metadata": {},
     "output_type": "execute_result"
    }
   ],
   "source": [
    "df1.head()"
   ]
  },
  {
   "cell_type": "markdown",
   "id": "47906534",
   "metadata": {},
   "source": [
    "## 📊 4. Conversion Rate Calculation"
   ]
  },
  {
   "cell_type": "code",
   "execution_count": 16,
   "id": "cdc9e822",
   "metadata": {},
   "outputs": [],
   "source": [
    "p_old = df1[df1['landing_page']=='old_page']['converted'].mean()\n",
    "p_new = df1[df1['landing_page']=='new_page']['converted'].mean()"
   ]
  },
  {
   "cell_type": "code",
   "execution_count": 17,
   "id": "7c3173d1",
   "metadata": {},
   "outputs": [
    {
     "name": "stdout",
     "output_type": "stream",
     "text": [
      "0.12029037760181936\n",
      "0.11872721981235362\n"
     ]
    }
   ],
   "source": [
    "print(p_old)\n",
    "print(p_new)"
   ]
  },
  {
   "cell_type": "code",
   "execution_count": 18,
   "id": "a5558598",
   "metadata": {},
   "outputs": [
    {
     "name": "stdout",
     "output_type": "stream",
     "text": [
      "-0.0015631577894657384\n"
     ]
    }
   ],
   "source": [
    "# Observed difference\n",
    "p0 = p_new - p_old\n",
    "print(p0)"
   ]
  },
  {
   "cell_type": "code",
   "execution_count": 19,
   "id": "74ad1369",
   "metadata": {},
   "outputs": [
    {
     "data": {
      "text/plain": [
       "288540"
      ]
     },
     "execution_count": 19,
     "metadata": {},
     "output_type": "execute_result"
    }
   ],
   "source": [
    "df1.shape[0]"
   ]
  },
  {
   "cell_type": "markdown",
   "id": "b6f7ac2e",
   "metadata": {},
   "source": [
    "## 🔁 5. Bootstrapping Simulations"
   ]
  },
  {
   "cell_type": "code",
   "execution_count": 20,
   "id": "93093b75",
   "metadata": {},
   "outputs": [],
   "source": [
    "# Bootstrap simulation to compute sampling distribution\n",
    "diff_p = []\n",
    "for i in range(1000):\n",
    "    df_boot = df1.sample(100000 , replace=True)\n",
    "    p_old2 = df_boot[df_boot['landing_page']=='old_page']['converted'].mean()\n",
    "    p_new2 = df_boot[df_boot['landing_page']=='new_page']['converted'].mean()\n",
    "    diff_p.append(p_new2 - p_old2)"
   ]
  },
  {
   "cell_type": "code",
   "execution_count": 21,
   "id": "e083d6d7",
   "metadata": {},
   "outputs": [
    {
     "data": {
      "text/plain": [
       "array([-0.00486305])"
      ]
     },
     "execution_count": 21,
     "metadata": {},
     "output_type": "execute_result"
    }
   ],
   "source": [
    "np.quantile(sorted(diff_p),[0.05])"
   ]
  },
  {
   "cell_type": "markdown",
   "id": "16b0e9c8",
   "metadata": {},
   "source": [
    "## 📉 6. Visualize Bootstrapped Distribution"
   ]
  },
  {
   "cell_type": "code",
   "execution_count": 22,
   "id": "eecc7222",
   "metadata": {},
   "outputs": [
    {
     "data": {
      "image/png": "[encoded data removed]",
      "text/plain": [
       "<Figure size 800x500 with 1 Axes>"
      ]
     },
     "metadata": {},
     "output_type": "display_data"
    }
   ],
   "source": [
    "plt.figure(figsize=(8,5))\n",
    "plt.hist(diff_p)\n",
    "plt.axvline(p0 , color = 'red')\n",
    "plt.axvline(np.quantile(sorted(diff_p),[0.05])[0] , color = 'green')\n",
    "plt.xlabel('difference_p')\n",
    "plt.ylabel('frequency')\n",
    "plt.legend(['P0' , 'boundary of 95%' , 'histogram of simulation'])\n",
    "plt.show()"
   ]
  },
  {
   "cell_type": "markdown",
   "id": "144fc228",
   "metadata": {},
   "source": [
    "## 🧮 7. p-value Estimation"
   ]
  },
  {
   "cell_type": "code",
   "execution_count": 23,
   "id": "4ef49fcc",
   "metadata": {},
   "outputs": [
    {
     "data": {
      "text/plain": [
       "0.494"
      ]
     },
     "execution_count": 23,
     "metadata": {},
     "output_type": "execute_result"
    }
   ],
   "source": [
    "len([i for i in sorted(diff_p) if i > p0]) / len(sorted(diff_p))"
   ]
  },
  {
   "cell_type": "markdown",
   "id": "29c7adc8",
   "metadata": {},
   "source": [
    "## 📐 8. Normal Approximation"
   ]
  },
  {
   "cell_type": "code",
   "execution_count": 24,
   "id": "3b134ad4",
   "metadata": {},
   "outputs": [
    {
     "name": "stdout",
     "output_type": "stream",
     "text": [
      "-0.0015728102799585798\n",
      "0.002100738821290676\n"
     ]
    }
   ],
   "source": [
    "mean_diff = np.mean(diff_p)\n",
    "std_diff = np.std(diff_p)\n",
    "print(mean_diff)\n",
    "print(std_diff)"
   ]
  },
  {
   "cell_type": "code",
   "execution_count": 25,
   "id": "93b657d2",
   "metadata": {},
   "outputs": [],
   "source": [
    "norm_data = np.random.normal(mean_diff, std_diff, 10000)"
   ]
  },
  {
   "cell_type": "markdown",
   "id": "d47f8870",
   "metadata": {},
   "source": [
    "## 📈 9. Visualize Normal Distribution Approximation"
   ]
  },
  {
   "cell_type": "code",
   "execution_count": 26,
   "id": "c298d286",
   "metadata": {},
   "outputs": [
    {
     "data": {
      "image/png": "[encoded data removed]",
      "text/plain": [
       "<Figure size 800x500 with 1 Axes>"
      ]
     },
     "metadata": {},
     "output_type": "display_data"
    }
   ],
   "source": [
    "plt.figure(figsize=(8,5))\n",
    "plt.hist(norm_data)\n",
    "plt.axvline(p0 , color = 'red')\n",
    "plt.axvline(np.quantile(sorted(norm_data),[0.05])[0] , color = 'green')\n",
    "plt.xlabel('difference_p')\n",
    "plt.ylabel('frequency')\n",
    "plt.legend(['P0' , 'boundary of 95%' , 'histogram of simulation'])\n",
    "plt.show()"
   ]
  },
  {
   "cell_type": "markdown",
   "id": "c362a0d6",
   "metadata": {},
   "source": [
    "## ✅ 10. Final p-value Estimation"
   ]
  },
  {
   "cell_type": "code",
   "execution_count": 27,
   "id": "ab3010b3",
   "metadata": {},
   "outputs": [
    {
     "data": {
      "text/plain": [
       "0.5033"
      ]
     },
     "execution_count": 27,
     "metadata": {},
     "output_type": "execute_result"
    }
   ],
   "source": [
    "len([i for i in sorted(norm_data) if i > p0]) / len(sorted(norm_data))"
   ]
  }
 ],
 "metadata": {
  "kernelspec": {
   "display_name": "Python 3 (ipykernel)",
   "language": "python",
   "name": "python3"
  },
  "language_info": {
   "codemirror_mode": {
    "name": "ipython",
    "version": 3
   },
   "file_extension": ".py",
   "mimetype": "text/x-python",
   "name": "python",
   "nbconvert_exporter": "python",
   "pygments_lexer": "ipython3",
   "version": "3.11.7"
  }
 },
 "nbformat": 4,
 "nbformat_minor": 5
}
